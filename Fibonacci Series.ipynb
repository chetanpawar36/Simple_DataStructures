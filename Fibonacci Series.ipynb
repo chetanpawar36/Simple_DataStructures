{
 "cells": [
  {
   "cell_type": "code",
   "execution_count": 4,
   "id": "b0b069f8-6a6f-451d-b8c8-892e0725efce",
   "metadata": {},
   "outputs": [
    {
     "name": "stdin",
     "output_type": "stream",
     "text": [
      "Till how many fibonacci numbers you want? \n",
      " Ans:  11\n"
     ]
    },
    {
     "name": "stdout",
     "output_type": "stream",
     "text": [
      "0\n",
      "1\n",
      "1\n",
      "2\n",
      "3\n",
      "5\n",
      "8\n",
      "13\n",
      "21\n",
      "34\n",
      "55\n"
     ]
    }
   ],
   "source": [
    "n = int(input(\"Till how many fibonacci numbers you want? \\n Ans: \"))\n",
    "\n",
    "f1 = 0\n",
    "f2 = 1\n",
    "c = 2\n",
    "\n",
    "if n==1:\n",
    "    print(f1)\n",
    "    \n",
    "elif n==2:\n",
    "    print(f1, '\\n', f2, sep='')\n",
    "    \n",
    "else:\n",
    "    print(f1, '\\n', f2, sep='')\n",
    "    while c<n:\n",
    "        f = f1+f2\n",
    "        print(f)\n",
    "        f1, f2 = f2, f\n",
    "        c += 1"
   ]
  },
  {
   "cell_type": "code",
   "execution_count": null,
   "id": "85db29e8-cd74-4748-b54c-1b969fb4e660",
   "metadata": {},
   "outputs": [],
   "source": []
  }
 ],
 "metadata": {
  "kernelspec": {
   "display_name": "Python 3 (ipykernel)",
   "language": "python",
   "name": "python3"
  },
  "language_info": {
   "codemirror_mode": {
    "name": "ipython",
    "version": 3
   },
   "file_extension": ".py",
   "mimetype": "text/x-python",
   "name": "python",
   "nbconvert_exporter": "python",
   "pygments_lexer": "ipython3",
   "version": "3.12.4"
  }
 },
 "nbformat": 4,
 "nbformat_minor": 5
}
